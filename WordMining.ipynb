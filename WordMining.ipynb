{
 "cells": [
  {
   "cell_type": "markdown",
   "id": "6c4aea0c-8a78-407c-a476-27236e4aedca",
   "metadata": {},
   "source": [
    "## Word mining by Clovis Hatungimana\n",
    "#### hatungclovis@gmail.com"
   ]
  },
  {
   "cell_type": "markdown",
   "id": "246d8d87-cef6-496e-9fc9-d01850caff75",
   "metadata": {},
   "source": [
    "### This script extracts the mosts common English words (3000 words) from the internet"
   ]
  },
  {
   "cell_type": "code",
   "execution_count": 3,
   "id": "12993150-46b7-446f-9517-fd9d313808ea",
   "metadata": {},
   "outputs": [],
   "source": [
    "import requests\n",
    "from bs4 import BeautifulSoup\n",
    "import pandas as pd"
   ]
  },
  {
   "cell_type": "code",
   "execution_count": 1,
   "id": "e26fdfdd-f0e6-4686-9824-408f0e740da3",
   "metadata": {},
   "outputs": [],
   "source": [
    "# The url of the website we will mine\n",
    "\n",
    "url = 'https://www.ef.com/ca/english-resources/english-vocabulary/top-3000-words/'"
   ]
  },
  {
   "cell_type": "markdown",
   "id": "1b0da9ab-0da4-4338-9ec2-e94204fd9f99",
   "metadata": {},
   "source": [
    "### 1. Data mining"
   ]
  },
  {
   "cell_type": "code",
   "execution_count": 4,
   "id": "9b491393-e03f-4553-9d1c-39585e92941e",
   "metadata": {},
   "outputs": [],
   "source": [
    "# We write a request, which returns the webpage with all its information\n",
    "\n",
    "r = requests.get(url)"
   ]
  },
  {
   "cell_type": "code",
   "execution_count": 17,
   "id": "99a515c0-277c-40a6-be7e-5c22d28dd71d",
   "metadata": {},
   "outputs": [],
   "source": [
    "# We parse the information in the page to make it look nicer\n",
    "page = BeautifulSoup(r.content, 'html.parser')"
   ]
  },
  {
   "cell_type": "code",
   "execution_count": 18,
   "id": "5d00d8c6-4d93-41b4-bf9c-23afb6a9fc66",
   "metadata": {},
   "outputs": [],
   "source": [
    "# We extract the part that contains the words we need\n",
    "word = page.find('div', class_=\"field-item even\")"
   ]
  },
  {
   "cell_type": "markdown",
   "id": "4ead1046-81c5-4b59-ae8b-07a54bc77135",
   "metadata": {},
   "source": [
    "### 2. Data cleaning"
   ]
  },
  {
   "cell_type": "code",
   "execution_count": 22,
   "id": "289fd8dd-94ec-4904-8d7a-7d1ba305a12f",
   "metadata": {},
   "outputs": [],
   "source": [
    "# We clean the data\n",
    "words = str(word).split(\"<br/>\")\n",
    "words = words.strip(\"<p>\")\n",
    "words = words.strip(\"</p>\")"
   ]
  },
  {
   "cell_type": "markdown",
   "id": "2fa45b3a-903b-4319-9a8c-410cc117ed1b",
   "metadata": {},
   "source": [
    "### Saving the data for later use"
   ]
  },
  {
   "cell_type": "code",
   "execution_count": 26,
   "id": "7c94aca9-85ac-44c8-9f40-3fe8ea128bf4",
   "metadata": {},
   "outputs": [],
   "source": [
    "# We now save the cleaned data for future use"
   ]
  },
  {
   "cell_type": "code",
   "execution_count": 65,
   "id": "d8bb02fb-c9c0-4c59-831e-bc6779dae8ba",
   "metadata": {},
   "outputs": [],
   "source": [
    "common_words = pd.DataFrame(words).to_csv('Common words.csv')"
   ]
  }
 ],
 "metadata": {
  "kernelspec": {
   "display_name": "Python 3 (ipykernel)",
   "language": "python",
   "name": "python3"
  },
  "language_info": {
   "codemirror_mode": {
    "name": "ipython",
    "version": 3
   },
   "file_extension": ".py",
   "mimetype": "text/x-python",
   "name": "python",
   "nbconvert_exporter": "python",
   "pygments_lexer": "ipython3",
   "version": "3.9.7"
  }
 },
 "nbformat": 4,
 "nbformat_minor": 5
}
